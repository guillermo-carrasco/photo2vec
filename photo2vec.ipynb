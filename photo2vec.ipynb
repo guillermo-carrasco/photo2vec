{
 "cells": [
  {
   "cell_type": "code",
   "execution_count": 31,
   "id": "f3b4eedb-eedc-4dea-8399-bea14da4daae",
   "metadata": {},
   "outputs": [],
   "source": [
    "import random\n",
    "\n",
    "import pandas as pd\n",
    "\n",
    "import matplotlib.pyplot as plt\n",
    "\n",
    "from sklearn.decomposition import PCA\n",
    "from sklearn.manifold import TSNE\n",
    "import plotly.express as px\n",
    "\n",
    "from gensim.models import Word2Vec\n",
    "from gensim.models.callbacks import CallbackAny2Vec\n",
    "\n",
    "from collections import defaultdict\n",
    "\n",
    "from process import process_metadata"
   ]
  },
  {
   "cell_type": "code",
   "execution_count": 69,
   "id": "522a3f67-cbcb-4bc6-b46c-79963cdf9dbb",
   "metadata": {},
   "outputs": [],
   "source": [
    "df = process_metadata('Export', save_csv=False)"
   ]
  },
  {
   "cell_type": "code",
   "execution_count": 72,
   "id": "642c3804-01c8-49ec-9de2-47d281746994",
   "metadata": {},
   "outputs": [
    {
     "data": {
      "text/html": [
       "<div>\n",
       "<style scoped>\n",
       "    .dataframe tbody tr th:only-of-type {\n",
       "        vertical-align: middle;\n",
       "    }\n",
       "\n",
       "    .dataframe tbody tr th {\n",
       "        vertical-align: top;\n",
       "    }\n",
       "\n",
       "    .dataframe thead th {\n",
       "        text-align: right;\n",
       "    }\n",
       "</style>\n",
       "<table border=\"1\" class=\"dataframe\">\n",
       "  <thead>\n",
       "    <tr style=\"text-align: right;\">\n",
       "      <th></th>\n",
       "      <th>title</th>\n",
       "      <th>file_type</th>\n",
       "      <th>url</th>\n",
       "      <th>description</th>\n",
       "      <th>creation_time</th>\n",
       "      <th>photo_taken_time</th>\n",
       "      <th>latitude</th>\n",
       "      <th>longitude</th>\n",
       "      <th>altitude</th>\n",
       "      <th>people</th>\n",
       "    </tr>\n",
       "    <tr>\n",
       "      <th>id</th>\n",
       "      <th></th>\n",
       "      <th></th>\n",
       "      <th></th>\n",
       "      <th></th>\n",
       "      <th></th>\n",
       "      <th></th>\n",
       "      <th></th>\n",
       "      <th></th>\n",
       "      <th></th>\n",
       "      <th></th>\n",
       "    </tr>\n",
       "  </thead>\n",
       "  <tbody>\n",
       "    <tr>\n",
       "      <th>AF1QipPRmgTKxK0yxJBfdabqEzRzDuRHvjO4FR89abx-</th>\n",
       "      <td>20170505_224107.jpg</td>\n",
       "      <td>JPG</td>\n",
       "      <td>https://photos.google.com/photo/AF1QipPRmgTKxK...</td>\n",
       "      <td></td>\n",
       "      <td>2017-05-06 00:55:20+00:00</td>\n",
       "      <td>2017-05-05 20:41:07+00:00</td>\n",
       "      <td>59.336944</td>\n",
       "      <td>18.065000</td>\n",
       "      <td>-0.0</td>\n",
       "      <td>None</td>\n",
       "    </tr>\n",
       "    <tr>\n",
       "      <th>AF1QipPBzOH3QMwnvQhktlT_ERlm8js6TMQVkWr9M7ll</th>\n",
       "      <td>20170903_010050.jpg</td>\n",
       "      <td>JPG</td>\n",
       "      <td>https://photos.google.com/photo/AF1QipPBzOH3QM...</td>\n",
       "      <td></td>\n",
       "      <td>2017-09-03 07:48:55+00:00</td>\n",
       "      <td>2017-09-02 23:00:50+00:00</td>\n",
       "      <td>59.335000</td>\n",
       "      <td>18.028889</td>\n",
       "      <td>-0.0</td>\n",
       "      <td>None</td>\n",
       "    </tr>\n",
       "    <tr>\n",
       "      <th>AF1QipNKUU1RNleN3-A_Dcy_TAuu9oLbj7ftuOOSMsDZ</th>\n",
       "      <td>20171104_005757.jpg</td>\n",
       "      <td>JPG</td>\n",
       "      <td>https://photos.google.com/photo/AF1QipNKUU1RNl...</td>\n",
       "      <td></td>\n",
       "      <td>2017-11-04 00:43:15+00:00</td>\n",
       "      <td>2017-11-03 23:57:57+00:00</td>\n",
       "      <td>NaN</td>\n",
       "      <td>NaN</td>\n",
       "      <td>0.0</td>\n",
       "      <td>None</td>\n",
       "    </tr>\n",
       "    <tr>\n",
       "      <th>AF1QipNGAh6e6_3_rOfDfHkexOInSfu2p7f64qhHfxlh</th>\n",
       "      <td>20171016_190059_1.mp4</td>\n",
       "      <td>MP4</td>\n",
       "      <td>https://photos.google.com/photo/AF1QipNGAh6e6_...</td>\n",
       "      <td></td>\n",
       "      <td>2017-10-16 17:19:19+00:00</td>\n",
       "      <td>2017-10-16 17:03:46+00:00</td>\n",
       "      <td>59.330600</td>\n",
       "      <td>18.027700</td>\n",
       "      <td>0.0</td>\n",
       "      <td>None</td>\n",
       "    </tr>\n",
       "    <tr>\n",
       "      <th>AF1QipOp_3jNhuwU-2UK9IB8cnrAPTly6OxyIqnW9qrX</th>\n",
       "      <td>IMG_20160716_203420.jpg</td>\n",
       "      <td>JPG</td>\n",
       "      <td>https://photos.google.com/photo/AF1QipOp_3jNhu...</td>\n",
       "      <td></td>\n",
       "      <td>2024-05-15 07:09:51+00:00</td>\n",
       "      <td>2016-07-16 18:34:21+00:00</td>\n",
       "      <td>NaN</td>\n",
       "      <td>NaN</td>\n",
       "      <td>0.0</td>\n",
       "      <td>{Sergio Floriano, Ramon Claramunt, Guillem Car...</td>\n",
       "    </tr>\n",
       "  </tbody>\n",
       "</table>\n",
       "</div>"
      ],
      "text/plain": [
       "                                                                title  \\\n",
       "id                                                                      \n",
       "AF1QipPRmgTKxK0yxJBfdabqEzRzDuRHvjO4FR89abx-      20170505_224107.jpg   \n",
       "AF1QipPBzOH3QMwnvQhktlT_ERlm8js6TMQVkWr9M7ll      20170903_010050.jpg   \n",
       "AF1QipNKUU1RNleN3-A_Dcy_TAuu9oLbj7ftuOOSMsDZ      20171104_005757.jpg   \n",
       "AF1QipNGAh6e6_3_rOfDfHkexOInSfu2p7f64qhHfxlh    20171016_190059_1.mp4   \n",
       "AF1QipOp_3jNhuwU-2UK9IB8cnrAPTly6OxyIqnW9qrX  IMG_20160716_203420.jpg   \n",
       "\n",
       "                                             file_type  \\\n",
       "id                                                       \n",
       "AF1QipPRmgTKxK0yxJBfdabqEzRzDuRHvjO4FR89abx-       JPG   \n",
       "AF1QipPBzOH3QMwnvQhktlT_ERlm8js6TMQVkWr9M7ll       JPG   \n",
       "AF1QipNKUU1RNleN3-A_Dcy_TAuu9oLbj7ftuOOSMsDZ       JPG   \n",
       "AF1QipNGAh6e6_3_rOfDfHkexOInSfu2p7f64qhHfxlh       MP4   \n",
       "AF1QipOp_3jNhuwU-2UK9IB8cnrAPTly6OxyIqnW9qrX       JPG   \n",
       "\n",
       "                                                                                            url  \\\n",
       "id                                                                                                \n",
       "AF1QipPRmgTKxK0yxJBfdabqEzRzDuRHvjO4FR89abx-  https://photos.google.com/photo/AF1QipPRmgTKxK...   \n",
       "AF1QipPBzOH3QMwnvQhktlT_ERlm8js6TMQVkWr9M7ll  https://photos.google.com/photo/AF1QipPBzOH3QM...   \n",
       "AF1QipNKUU1RNleN3-A_Dcy_TAuu9oLbj7ftuOOSMsDZ  https://photos.google.com/photo/AF1QipNKUU1RNl...   \n",
       "AF1QipNGAh6e6_3_rOfDfHkexOInSfu2p7f64qhHfxlh  https://photos.google.com/photo/AF1QipNGAh6e6_...   \n",
       "AF1QipOp_3jNhuwU-2UK9IB8cnrAPTly6OxyIqnW9qrX  https://photos.google.com/photo/AF1QipOp_3jNhu...   \n",
       "\n",
       "                                             description  \\\n",
       "id                                                         \n",
       "AF1QipPRmgTKxK0yxJBfdabqEzRzDuRHvjO4FR89abx-               \n",
       "AF1QipPBzOH3QMwnvQhktlT_ERlm8js6TMQVkWr9M7ll               \n",
       "AF1QipNKUU1RNleN3-A_Dcy_TAuu9oLbj7ftuOOSMsDZ               \n",
       "AF1QipNGAh6e6_3_rOfDfHkexOInSfu2p7f64qhHfxlh               \n",
       "AF1QipOp_3jNhuwU-2UK9IB8cnrAPTly6OxyIqnW9qrX               \n",
       "\n",
       "                                                         creation_time  \\\n",
       "id                                                                       \n",
       "AF1QipPRmgTKxK0yxJBfdabqEzRzDuRHvjO4FR89abx- 2017-05-06 00:55:20+00:00   \n",
       "AF1QipPBzOH3QMwnvQhktlT_ERlm8js6TMQVkWr9M7ll 2017-09-03 07:48:55+00:00   \n",
       "AF1QipNKUU1RNleN3-A_Dcy_TAuu9oLbj7ftuOOSMsDZ 2017-11-04 00:43:15+00:00   \n",
       "AF1QipNGAh6e6_3_rOfDfHkexOInSfu2p7f64qhHfxlh 2017-10-16 17:19:19+00:00   \n",
       "AF1QipOp_3jNhuwU-2UK9IB8cnrAPTly6OxyIqnW9qrX 2024-05-15 07:09:51+00:00   \n",
       "\n",
       "                                                      photo_taken_time  \\\n",
       "id                                                                       \n",
       "AF1QipPRmgTKxK0yxJBfdabqEzRzDuRHvjO4FR89abx- 2017-05-05 20:41:07+00:00   \n",
       "AF1QipPBzOH3QMwnvQhktlT_ERlm8js6TMQVkWr9M7ll 2017-09-02 23:00:50+00:00   \n",
       "AF1QipNKUU1RNleN3-A_Dcy_TAuu9oLbj7ftuOOSMsDZ 2017-11-03 23:57:57+00:00   \n",
       "AF1QipNGAh6e6_3_rOfDfHkexOInSfu2p7f64qhHfxlh 2017-10-16 17:03:46+00:00   \n",
       "AF1QipOp_3jNhuwU-2UK9IB8cnrAPTly6OxyIqnW9qrX 2016-07-16 18:34:21+00:00   \n",
       "\n",
       "                                               latitude  longitude  altitude  \\\n",
       "id                                                                             \n",
       "AF1QipPRmgTKxK0yxJBfdabqEzRzDuRHvjO4FR89abx-  59.336944  18.065000      -0.0   \n",
       "AF1QipPBzOH3QMwnvQhktlT_ERlm8js6TMQVkWr9M7ll  59.335000  18.028889      -0.0   \n",
       "AF1QipNKUU1RNleN3-A_Dcy_TAuu9oLbj7ftuOOSMsDZ        NaN        NaN       0.0   \n",
       "AF1QipNGAh6e6_3_rOfDfHkexOInSfu2p7f64qhHfxlh  59.330600  18.027700       0.0   \n",
       "AF1QipOp_3jNhuwU-2UK9IB8cnrAPTly6OxyIqnW9qrX        NaN        NaN       0.0   \n",
       "\n",
       "                                                                                         people  \n",
       "id                                                                                               \n",
       "AF1QipPRmgTKxK0yxJBfdabqEzRzDuRHvjO4FR89abx-                                               None  \n",
       "AF1QipPBzOH3QMwnvQhktlT_ERlm8js6TMQVkWr9M7ll                                               None  \n",
       "AF1QipNKUU1RNleN3-A_Dcy_TAuu9oLbj7ftuOOSMsDZ                                               None  \n",
       "AF1QipNGAh6e6_3_rOfDfHkexOInSfu2p7f64qhHfxlh                                               None  \n",
       "AF1QipOp_3jNhuwU-2UK9IB8cnrAPTly6OxyIqnW9qrX  {Sergio Floriano, Ramon Claramunt, Guillem Car...  "
      ]
     },
     "execution_count": 72,
     "metadata": {},
     "output_type": "execute_result"
    }
   ],
   "source": [
    "df.head()"
   ]
  },
  {
   "cell_type": "code",
   "execution_count": 7,
   "id": "97a5acbe-2a12-4348-9d3f-fb903710a1e3",
   "metadata": {},
   "outputs": [],
   "source": [
    "# Use pictures that contain people only\n",
    "df = df[df.people.notnull()]"
   ]
  },
  {
   "cell_type": "code",
   "execution_count": 8,
   "id": "8ccdd15f-c3cf-4b8c-8fc9-945544ba42aa",
   "metadata": {},
   "outputs": [
    {
     "data": {
      "text/plain": [
       "(13383, 10)"
      ]
     },
     "execution_count": 8,
     "metadata": {},
     "output_type": "execute_result"
    }
   ],
   "source": [
    "df.shape"
   ]
  },
  {
   "cell_type": "code",
   "execution_count": 11,
   "id": "1cc91425-44b1-49b0-bc0c-b340fbd5cddb",
   "metadata": {},
   "outputs": [],
   "source": [
    "documents = defaultdict(list)\n",
    "\n",
    "for _, row in df.iterrows():\n",
    "    for person in row.people:\n",
    "        documents[person].append(row.url)"
   ]
  },
  {
   "cell_type": "code",
   "execution_count": 26,
   "id": "2e530522-f957-4430-9401-ad409e5dc0ff",
   "metadata": {},
   "outputs": [],
   "source": [
    "# What's the distribution of pictures per person? \n",
    "doc_words = sorted(\n",
    "    [(f\"p{i}\", len(photos)) for i, (person, photos) in enumerate(documents.items())], key=lambda x: x[1], reverse=True\n",
    ")\n",
    "\n",
    "docs = [d for d, _ in doc_words]\n",
    "words = [w for _, w in doc_words]"
   ]
  },
  {
   "cell_type": "code",
   "execution_count": 68,
   "id": "a65d1ee8-f5b7-4713-bce1-e6496f0e16c1",
   "metadata": {},
   "outputs": [
    {
     "data": {
      "image/png": "[encoded data removed]",
      "text/plain": [
       "<Figure size 3000x500 with 1 Axes>"
      ]
     },
     "metadata": {},
     "output_type": "display_data"
    }
   ],
   "source": [
    "plt.figure(figsize=(30, 5))\n",
    "plt.bar(docs, words)\n",
    "plt.xlim(-1, len(docs))\n",
    "_ = plt.title('Pictures per person')"
   ]
  },
  {
   "cell_type": "code",
   "execution_count": 57,
   "id": "9cb80f6f-a22c-4637-bacf-d39e1aedc313",
   "metadata": {},
   "outputs": [
    {
     "name": "stdout",
     "output_type": "stream",
     "text": [
      "Smallest document: 5\n"
     ]
    }
   ],
   "source": [
    "print(f\"Smallest document: {min(words)}\")"
   ]
  },
  {
   "cell_type": "markdown",
   "id": "09c7bb03-5e7a-474d-a1a3-5efd79ab1dab",
   "metadata": {},
   "source": [
    "# Train a word2vec model\n",
    "\n",
    "## Photo2Vec"
   ]
  },
  {
   "cell_type": "code",
   "execution_count": 44,
   "id": "dc67f3f8-ab5e-4c60-93b0-005a21a6ded9",
   "metadata": {},
   "outputs": [],
   "source": [
    "class Callback(CallbackAny2Vec):\n",
    "    \"\"\"Callback to print loss after each epoch.\"\"\"\n",
    "\n",
    "    def __init__(self):\n",
    "        self.epoch = 0\n",
    "        self.losses = []\n",
    "\n",
    "    def on_epoch_begin(self, model):\n",
    "        print(\"Epoch #{} start\".format(self.epoch))\n",
    "\n",
    "    def on_epoch_end(self, model):\n",
    "        loss = model.get_latest_training_loss()\n",
    "        if self.epoch == 0:\n",
    "            print(\"Loss after epoch {}: {}\".format(self.epoch, loss))\n",
    "        else:\n",
    "            print(\"Loss after epoch {}: {}\".format(self.epoch, loss - self.losses[-1]))\n",
    "        self.losses.append(loss)\n",
    "        self.epoch += 1\n",
    "\n",
    "\n",
    "class PhotoCorpus:\n",
    "    \"\"\"An iterator that yields sentences (lists of str).\"\"\"\n",
    "\n",
    "    RANDOM_WALK_TIMES = 10\n",
    "\n",
    "    def __init__(self, similarity_dict):\n",
    "        self.similarity_dict = similarity_dict\n",
    "\n",
    "    def __iter__(self):\n",
    "        for _, photos in self.similarity_dict.items():\n",
    "            for _ in range(self.RANDOM_WALK_TIMES):\n",
    "                random.shuffle(photos)\n",
    "                yield photos\n",
    "\n",
    "\n",
    "def train_photos(documents):\n",
    "    model = Word2Vec(\n",
    "        sentences=PhotoCorpus(documents),\n",
    "        vector_size=128,\n",
    "        window=5,\n",
    "        min_count=1,\n",
    "        workers=8,\n",
    "        callbacks=[Callback()],\n",
    "        compute_loss=True,\n",
    "        epochs=10,\n",
    "    )\n",
    "    return model"
   ]
  },
  {
   "cell_type": "code",
   "execution_count": 45,
   "id": "287c7098-683a-4263-9246-2bb031dd84a5",
   "metadata": {},
   "outputs": [
    {
     "name": "stdout",
     "output_type": "stream",
     "text": [
      "Epoch #0 start\n",
      "Loss after epoch 0: 140585.3125\n",
      "Epoch #1 start\n",
      "Loss after epoch 1: 154373.25\n",
      "Epoch #2 start\n",
      "Loss after epoch 2: 140339.5625\n",
      "Epoch #3 start\n",
      "Loss after epoch 3: 122344.1875\n",
      "Epoch #4 start\n",
      "Loss after epoch 4: 97132.25\n",
      "Epoch #5 start\n",
      "Loss after epoch 5: 101925.1875\n",
      "Epoch #6 start\n",
      "Loss after epoch 6: 90505.25\n",
      "Epoch #7 start\n",
      "Loss after epoch 7: 89210.5\n",
      "Epoch #8 start\n",
      "Loss after epoch 8: 96776.1875\n",
      "Epoch #9 start\n",
      "Loss after epoch 9: 96770.1875\n"
     ]
    }
   ],
   "source": [
    "model = train_photos(documents)"
   ]
  },
  {
   "cell_type": "code",
   "execution_count": 46,
   "id": "ddd16aad-fdca-4ed0-8aaf-a651daddd8e4",
   "metadata": {},
   "outputs": [
    {
     "name": "stdout",
     "output_type": "stream",
     "text": [
      "Running PCA\n"
     ]
    }
   ],
   "source": [
    "X = model.wv.get_normed_vectors()\n",
    "\n",
    "# Reduce dimensionality as per TSNE documentation suggestion: \n",
    "# https://scikit-learn.org/stable/modules/generated/sklearn.manifold.TSNE.html#tsne\n",
    "print(\"Running PCA\")\n",
    "pca = PCA(n_components=50)\n",
    "X_pca = pca.fit_transform(X)"
   ]
  },
  {
   "cell_type": "code",
   "execution_count": 47,
   "id": "096eb8f5-7189-44af-848a-e297e5828ee9",
   "metadata": {},
   "outputs": [
    {
     "name": "stdout",
     "output_type": "stream",
     "text": [
      "Running tsne\n"
     ]
    }
   ],
   "source": [
    "print(\"Running tsne\")\n",
    "tsne = TSNE(n_components=2, n_jobs=-1)\n",
    "X_tsne = tsne.fit_transform(X_pca)"
   ]
  },
  {
   "cell_type": "code",
   "execution_count": 54,
   "id": "8e771886-3e0d-44df-ba06-2e69bf3549f5",
   "metadata": {},
   "outputs": [
    {
     "name": "stdout",
     "output_type": "stream",
     "text": [
      "Generating hover data\n"
     ]
    }
   ],
   "source": [
    "urls = []\n",
    "people = []\n",
    "print(\"Generating hover data\")\n",
    "for v in model.wv.index_to_key:\n",
    "    urls.append(v)\n",
    "    people.append(str(df[df.url == v].iloc[0].people))"
   ]
  },
  {
   "cell_type": "code",
   "execution_count": 55,
   "id": "cbb52861-657f-471e-8da1-b0244aa35b90",
   "metadata": {},
   "outputs": [
    {
     "name": "stdout",
     "output_type": "stream",
     "text": [
      "Saving plot...\n"
     ]
    }
   ],
   "source": [
    "print(\"Saving plot...\")\n",
    "df_plot = pd.DataFrame(X_tsne, columns=['x', 'y'])\n",
    "df_plot['url'] = urls\n",
    "df_plot['people'] = people\n",
    "fig = px.scatter(df_plot, x='x', y='y', hover_data=['url', 'people'])\n",
    "fig.update_traces(marker=dict(size=4), selector=dict(mode='markers'))\n",
    "fig.write_html('clusters.html')"
   ]
  }
 ],
 "metadata": {
  "kernelspec": {
   "display_name": "Python 3 (ipykernel)",
   "language": "python",
   "name": "python3"
  },
  "language_info": {
   "codemirror_mode": {
    "name": "ipython",
    "version": 3
   },
   "file_extension": ".py",
   "mimetype": "text/x-python",
   "name": "python",
   "nbconvert_exporter": "python",
   "pygments_lexer": "ipython3",
   "version": "3.12.2"
  }
 },
 "nbformat": 4,
 "nbformat_minor": 5
}
